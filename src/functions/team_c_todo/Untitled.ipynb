{
 "cells": [
  {
   "cell_type": "code",
   "execution_count": 31,
   "id": "485f7695",
   "metadata": {},
   "outputs": [],
   "source": [
    "import datetime"
   ]
  },
  {
   "cell_type": "code",
   "execution_count": 36,
   "id": "3d32f30c",
   "metadata": {},
   "outputs": [],
   "source": [
    "class Todo:\n",
    "    def __init__(self, who, date=None, title=None, collabs=None, description=None):\n",
    "        self.createDate = datetime.datetime.now()\n",
    "        self.who = who\n",
    "        self.date = date\n",
    "        self.title = title\n",
    "        self.description = description\n",
    "        if collabs != None :\n",
    "            self.collabs = list(collab for collab in collabs)\n",
    "        else : \n",
    "            self.collabs = []\n",
    "            \n",
    "    def update(self, title=None, date=None, description=None, collabs=None):\n",
    "        if date:\n",
    "            self.date = date\n",
    "        if title:\n",
    "            self.title =title\n",
    "        if description:\n",
    "            self.description = description\n",
    "        if collabs:\n",
    "            self.collabs = list(collab for collab in collabs)\n",
    "\n",
    "\n",
    "    \n",
    "    def toPrint(self) :\n",
    "        print(\"Title : \",self.title,\"\\nDue Date : \",self.date,\"\\nDescription : \",self.description,\"\\nCreated by : \",self.who,\" @ \",self.whenCreated(),\"\\nCollaborateurs : \",' '.join(str(x) for x in self.collabs))\n",
    "    \n",
    "    \n",
    "    def __repr__(self):\n",
    "        return \"\"\"\n",
    "        # {0}\n",
    "        ###Created on {1}\n",
    "        ###By user : {2}\n",
    "        {3}\"\"\".format(self.what, self.when, self.who, self.what)\n",
    "\n",
    "    def whenCreated(self):\n",
    "        return self.createDate\n",
    "    "
   ]
  },
  {
   "cell_type": "code",
   "execution_count": 37,
   "id": "39f87718",
   "metadata": {},
   "outputs": [
    {
     "data": {
      "text/plain": [
       "datetime.datetime(2022, 11, 19, 12, 33, 53, 931810)"
      ]
     },
     "execution_count": 37,
     "metadata": {},
     "output_type": "execute_result"
    }
   ],
   "source": [
    "\n",
    "myTodo = Todo('Sam','demain','manger du riz',description=\"nulle\")\n",
    "myTodo.toPrint()\n"
   ]
  },
  {
   "cell_type": "code",
   "execution_count": null,
   "id": "5e8f0131",
   "metadata": {},
   "outputs": [],
   "source": [
    "def menuTodo(todo) :\n",
    "    print(\"[1] Voir todo\")\n",
    "    print(\"[2] Changer titre todo\")\n",
    "    print(\"[3] Changer date todo\")\n",
    "    print(\"[4] Ajouter collaborateurs todo\")\n",
    "    print(\"[OK] Quitter\")\n",
    "    while True:\n",
    "        \n",
    "        \n",
    "        answer = input(\"> \")\n",
    "        \n",
    "        if answer == (\"ok\" or \"OK\" or \"Ok\" or \"oK\") :\n",
    "            print(\"you quit\")\n",
    "            break;\n",
    "        \n",
    "        if int(answer) == 1 :\n",
    "            todo.toPrint()\n",
    "            \n",
    "        \n",
    "        elif int(answer) == 2 :\n",
    "            newTitle=input(\"Entrer nouveau titre > \")\n",
    "            todo.update(title=newTitle)\n",
    "            \n",
    "        elif int(answer) == 3 :\n",
    "            newDate=input(\"Enter new date > \")\n",
    "            todo.update(date=newDate)\n",
    "            \n",
    "        elif int(answer) == 4 :\n",
    "            newCollabs = input(\"Entrez les collaborateurs de ce toDo séparés d'un espace > \")\n",
    "            todo.update(collabs=newCollabs.split())\n",
    "        \n",
    "        \n",
    "            \n",
    "        else :\n",
    "            print(\"wrong input, try again\")"
   ]
  },
  {
   "cell_type": "code",
   "execution_count": null,
   "id": "d21c7431",
   "metadata": {},
   "outputs": [],
   "source": [
    "text = input(\"> \")\n",
    "\n",
    "print(text)"
   ]
  },
  {
   "cell_type": "code",
   "execution_count": null,
   "id": "f7742c50",
   "metadata": {},
   "outputs": [],
   "source": [
    "def readTitle(text) :\n",
    "    title = \"\"\n",
    "    titleIndex = [0]\n",
    "    for i in range(len(text.split())) :\n",
    "        if ('%' in text.split()[i]) or ('\"' in text.split()[i]) or (i == len(text.split())) :\n",
    "            titleIndex.append(i)\n",
    "            \n",
    "    if len(titleIndex) >= 2 :\n",
    "        for index in range(titleIndex[0],titleIndex[1]) :\n",
    "            title+=text.split()[index]+' '\n",
    "        return title[0:-1]\n",
    "    else :\n",
    "        return None"
   ]
  },
  {
   "cell_type": "code",
   "execution_count": null,
   "id": "58459904",
   "metadata": {},
   "outputs": [],
   "source": [
    "def readDesc(text) :\n",
    "    desc = \"\"\n",
    "    descIndex = []\n",
    "    for i in range(len(text)) :\n",
    "        if text[i] == '\"' :\n",
    "            descIndex.append(i)\n",
    "    if len(descIndex) == 2 :\n",
    "        \n",
    "       \n",
    "        desc = text[descIndex[0]:descIndex[1]]\n",
    "        return desc[1:]\n",
    "    else :\n",
    "        return None\n",
    "            "
   ]
  },
  {
   "cell_type": "code",
   "execution_count": null,
   "id": "7621377d",
   "metadata": {},
   "outputs": [],
   "source": [
    "def readDate(text) :\n",
    "    date = \"\"\n",
    "    dateIndex = []\n",
    "    for i in range(len(text)) :\n",
    "        if text[i] == '%':\n",
    "            dateIndex.append(i)\n",
    "        if text[i] == ('@' or '\"') or (i==len(text)) :\n",
    "            dateIndex.append(i)\n",
    "    if len(dateIndex) >= 2 :\n",
    "        date = text[dateIndex[0]:dateIndex[1]]\n",
    "        return date[1:]\n",
    "    else :\n",
    "        return None\n",
    "    "
   ]
  }
 ],
 "metadata": {
  "kernelspec": {
   "display_name": "Python 3 (ipykernel)",
   "language": "python",
   "name": "python3"
  },
  "language_info": {
   "codemirror_mode": {
    "name": "ipython",
    "version": 3
   },
   "file_extension": ".py",
   "mimetype": "text/x-python",
   "name": "python",
   "nbconvert_exporter": "python",
   "pygments_lexer": "ipython3",
   "version": "3.10.7"
  }
 },
 "nbformat": 4,
 "nbformat_minor": 5
}
