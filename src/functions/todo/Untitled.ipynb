{
 "cells": [
  {
   "cell_type": "code",
   "execution_count": 75,
   "id": "70763923",
   "metadata": {},
   "outputs": [],
   "source": [
    "import datetime"
   ]
  },
  {
   "cell_type": "code",
   "execution_count": 131,
   "id": "74854614",
   "metadata": {},
   "outputs": [],
   "source": [
    "class Todo:\n",
    "    def __init__(self, who, date=None, title=None, collabs=None, description=None):\n",
    "        self.createDate = datetime.datetime.now()\n",
    "        self.who = who\n",
    "        self.date = date\n",
    "        self.title = title\n",
    "        self.description = description\n",
    "        if collabs != None :\n",
    "            self.collabs = list(collab for collab in collabs)\n",
    "        else : \n",
    "            self.collabs = []\n",
    "            \n",
    "    def update(self, title=None, date=None, description=None, collabs=None):\n",
    "        if date:\n",
    "            self.date = date\n",
    "        if title:\n",
    "            self.title =title\n",
    "        if description:\n",
    "            self.description = description\n",
    "        if collabs:\n",
    "            self.collabs = list(collab for collab in collabs)\n",
    "\n",
    "\n",
    "    \n",
    "    def toPrint(self) :\n",
    "        print(\"Title : \",self.title,\"\\nDue Date : \",self.date,\"\\nDescription : \",self.description,\"\\nCreated by : \",self.who,\" @ \",self.whenCreated(),\"\\nCollaborateurs : \",' '.join(str(x) for x in self.collabs))\n",
    "    \n",
    "    \n",
    "    def __repr__(self):\n",
    "        return \"\"\"\n",
    "        # {0}\n",
    "        ###Created on {1}\n",
    "        ###By user : {2}\n",
    "        {3}\"\"\".format(self.what, self.when, self.who, self.what)\n",
    "\n",
    "    def whenCreated(self):\n",
    "        return self.createDate\n",
    "    "
   ]
  },
  {
   "cell_type": "code",
   "execution_count": 135,
   "id": "338cd047",
   "metadata": {},
   "outputs": [
    {
     "name": "stdout",
     "output_type": "stream",
     "text": [
      "Title :  manger du riz \n",
      "Due Date :  demain \n",
      "Description :  nulle \n",
      "Created by :  Sam  @  2022-11-19 14:32:35.441482 \n",
      "Collaborateurs :  \n"
     ]
    }
   ],
   "source": [
    "\n",
    "myTodo = Todo('Sam','demain','manger du riz',description=\"nulle\")\n",
    "myTodo.toPrint()\n"
   ]
  },
  {
   "cell_type": "code",
   "execution_count": 133,
   "id": "47f1d74d",
   "metadata": {},
   "outputs": [],
   "source": [
    "def menuTodo(todo) :\n",
    "    print(\"[1] Voir todo\")\n",
    "    print(\"[2] Changer titre todo\")\n",
    "    print(\"[3] Changer date todo\")\n",
    "    print(\"[4] Ajouter collaborateurs todo\")\n",
    "    print(\"[OK] Quitter\")\n",
    "    while True:\n",
    "        \n",
    "        \n",
    "        answer = input(\"> \")\n",
    "        \n",
    "        if answer == (\"ok\" or \"OK\" or \"Ok\" or \"oK\") :\n",
    "            print(\"you quit\")\n",
    "            break;\n",
    "        \n",
    "        if int(answer) == 1 :\n",
    "            todo.toPrint()\n",
    "            \n",
    "        \n",
    "        elif int(answer) == 2 :\n",
    "            newTitle=input(\"Entrer nouveau titre > \")\n",
    "            todo.update(title=newTitle)\n",
    "            \n",
    "        elif int(answer) == 3 :\n",
    "            newDate=input(\"Enter new date > \")\n",
    "            todo.update(date=newDate)\n",
    "            \n",
    "        elif int(answer) == 4 :\n",
    "            newCollabs = input(\"Entrez les collaborateurs de ce toDo séparés d'un espace > \")\n",
    "            todo.update(collabs=newCollabs.split())\n",
    "        \n",
    "        \n",
    "            \n",
    "        else :\n",
    "            print(\"wrong input, try again\")"
   ]
  },
  {
   "cell_type": "code",
   "execution_count": 136,
   "id": "5adeb9f2",
   "metadata": {},
   "outputs": [
    {
     "name": "stdout",
     "output_type": "stream",
     "text": [
      "[1] Voir todo\n",
      "[2] Changer titre todo\n",
      "[3] Changer date todo\n",
      "[4] Ajouter collaborateurs todo\n",
      "[OK] Quitter\n",
      "> 1\n",
      "Title :  manger du riz \n",
      "Due Date :  demain \n",
      "Description :  nulle \n",
      "Created by :  Sam  @  2022-11-19 14:32:35.441482 \n",
      "Collaborateurs :  \n",
      "> 4\n",
      "Entrez les collaborateurs de ce toDo séparés d'un espace > @gwen @sam @user\n",
      "> 1\n",
      "Title :  manger du riz \n",
      "Due Date :  demain \n",
      "Description :  nulle \n",
      "Created by :  Sam  @  2022-11-19 14:32:35.441482 \n",
      "Collaborateurs :  @gwen @sam @user\n",
      "> ok\n",
      "you quit\n"
     ]
    }
   ],
   "source": [
    "menuTodo(myTodo)\n"
   ]
  },
  {
   "cell_type": "code",
   "execution_count": 151,
   "id": "9dcaf5de",
   "metadata": {},
   "outputs": [
    {
     "name": "stdout",
     "output_type": "stream",
     "text": [
      "['@lol', '@yeh', '@gwen']\n"
     ]
    }
   ],
   "source": [
    "x= \"!todo title @lol @yeh @gwen\"\n",
    "\n",
    "collab = []\n",
    "for elem in x.split() :\n",
    "    if '@' in elem :\n",
    "        collab.append(elem)\n",
    "        \n",
    "print(collab)"
   ]
  },
  {
   "cell_type": "code",
   "execution_count": null,
   "id": "588b82d8",
   "metadata": {},
   "outputs": [],
   "source": []
  }
 ],
 "metadata": {
  "kernelspec": {
   "display_name": "Python 3 (ipykernel)",
   "language": "python",
   "name": "python3"
  },
  "language_info": {
   "codemirror_mode": {
    "name": "ipython",
    "version": 3
   },
   "file_extension": ".py",
   "mimetype": "text/x-python",
   "name": "python",
   "nbconvert_exporter": "python",
   "pygments_lexer": "ipython3",
   "version": "3.10.7"
  }
 },
 "nbformat": 4,
 "nbformat_minor": 5
}
