{
 "cells": [
  {
   "cell_type": "code",
   "execution_count": 2,
   "id": "43d92812",
   "metadata": {},
   "outputs": [],
   "source": [
    "import datetime"
   ]
  },
  {
   "cell_type": "code",
   "execution_count": 3,
   "id": "a1873e88",
   "metadata": {},
   "outputs": [],
   "source": [
    "class Todo:\n",
    "    def __init__(self, who, when, what):\n",
    "        fulldate = datetime.datetime.now()\n",
    "        self.who = who\n",
    "        self.when = when\n",
    "        self.what = what\n",
    "    def toPrint() :\n",
    "        print(\"I am : \",self.who,\"\\nI have to do : \",what,\"\\nFor : \",when)\n",
    "        \n",
    "    "
   ]
  },
  {
   "cell_type": "code",
   "execution_count": 5,
   "id": "1fc6f593",
   "metadata": {},
   "outputs": [
    {
     "name": "stdout",
     "output_type": "stream",
     "text": [
      "2022-11-19 11:50:51.642789\n"
     ]
    }
   ],
   "source": [
    "\n",
    "print(fulldate) "
   ]
  }
 ],
 "metadata": {
  "kernelspec": {
   "display_name": "Python 3 (ipykernel)",
   "language": "python",
   "name": "python3"
  },
  "language_info": {
   "codemirror_mode": {
    "name": "ipython",
    "version": 3
   },
   "file_extension": ".py",
   "mimetype": "text/x-python",
   "name": "python",
   "nbconvert_exporter": "python",
   "pygments_lexer": "ipython3",
   "version": "3.10.7"
  }
 },
 "nbformat": 4,
 "nbformat_minor": 5
}
