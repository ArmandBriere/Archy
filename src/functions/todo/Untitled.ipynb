{
 "cells": [
  {
   "cell_type": "code",
   "execution_count": 31,
   "id": "485f7695",
   "metadata": {},
   "outputs": [],
   "source": [
    "import datetime"
   ]
  },
  {
   "cell_type": "code",
   "execution_count": 36,
   "id": "3d32f30c",
   "metadata": {},
   "outputs": [],
   "source": [
    "class Todo:\n",
    "    def __init__(self, who, when, what):\n",
    "        self.createDate = datetime.datetime.now()\n",
    "        self.who = who\n",
    "        self.when = when\n",
    "        self.what = what\n",
    "    def toPrint(self) :\n",
    "        print(\"I am : \",self.who,\"\\nI have to do : \",self.what,\"\\nFor : \",self.when)\n",
    "        \n",
    "    def whenCreated(self) :\n",
    "        return self.createDate\n",
    "        \n",
    "    \n",
    "    "
   ]
  },
  {
   "cell_type": "code",
   "execution_count": 37,
   "id": "39f87718",
   "metadata": {},
   "outputs": [
    {
     "data": {
      "text/plain": [
       "datetime.datetime(2022, 11, 19, 12, 33, 53, 931810)"
      ]
     },
     "execution_count": 37,
     "metadata": {},
     "output_type": "execute_result"
    }
   ],
   "source": [
    "\n",
    "myTodo = Todo('Sam','demain','manger du riz')\n",
    "myTodo.whenCreated()\n"
   ]
  },
  {
   "cell_type": "code",
   "execution_count": null,
   "id": "5e8f0131",
   "metadata": {},
   "outputs": [],
   "source": []
  }
 ],
 "metadata": {
  "kernelspec": {
   "display_name": "Python 3 (ipykernel)",
   "language": "python",
   "name": "python3"
  },
  "language_info": {
   "codemirror_mode": {
    "name": "ipython",
    "version": 3
   },
   "file_extension": ".py",
   "mimetype": "text/x-python",
   "name": "python",
   "nbconvert_exporter": "python",
   "pygments_lexer": "ipython3",
   "version": "3.10.7"
  }
 },
 "nbformat": 4,
 "nbformat_minor": 5
}
